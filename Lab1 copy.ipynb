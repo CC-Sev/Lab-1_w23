{
 "cells": [
  {
   "cell_type": "markdown",
   "metadata": {
    "colab_type": "text",
    "id": "__1JBcfGnOHj"
   },
   "source": [
    "# The Distribution of First Digits\n",
    "\n",
    "In this lab, you will explore the distribution of first digits in real data. For example, the first digits of the numbers 52, 30.8, and 0.07 are 5, 3, and 7 respectively. In this lab, you will investigate the question: how frequently does each digit 1-9 appear as the first digit of the number?\n"
   ]
  },
  {
   "cell_type": "markdown",
   "metadata": {
    "colab_type": "text",
    "id": "iJ0is3PhnOHl"
   },
   "source": [
    "## Question 0\n",
    "\n",
    "Make a prediction. \n",
    "\n",
    "1. Approximately what percentage of the values do you think will have a _first_ digit of 1? What percentage of the values do you think will have a first digit of 9?\n",
    "2. Approximately what percentage of the values do you think will have a _last_ digit of 1? What percentage of the values do you think will have a last digit of 9?\n",
    "\n",
    "(Don't worry about being wrong. You will earn full credit for any justified answer.)"
   ]
  },
  {
   "cell_type": "markdown",
   "metadata": {
    "colab_type": "text",
    "id": "D4Kxu2djnOHm"
   },
   "source": [
    "Percentage of values having the first digit of 1 is 10%.\n",
    "Percentage of values having the first digit of 9 is 10%.\n",
    "Percentage of values having the last digit of 1 is 10%.\n",
    "Percentage of values having the last digit of 9 is 10%.\n",
    "\n",
    "I predict this because the odds are the first and/or last digit is about 1 out of 9, which is about 10%."
   ]
  },
  {
   "cell_type": "markdown",
   "metadata": {
    "colab_type": "text",
    "id": "Dyc5U7u7nOHn"
   },
   "source": [
    "## Question 1\n",
    "\n",
    "The [S&P 500](https://en.wikipedia.org/wiki/S%26P_500_Index) is a stock index based on the market capitalizations of large companies that are publicly traded on the NYSE or NASDAQ. The CSV file `sp500.csv` contains data from February 1, 2018 about the stocks that comprise the S&P 500. We will investigate the first digit distributions of the variables in this data set.\n",
    "\n",
    "Read in the S&P 500 data. What is the unit of observation in this data set? Is there a variable that is natural to use as the index? If so, set that variable to be the index. Once you are done, display the `DataFrame`."
   ]
  },
  {
   "cell_type": "code",
   "execution_count": 5,
   "metadata": {
    "colab": {},
    "colab_type": "code",
    "id": "vX2M_vUAnOHr",
    "outputId": "9e1819ee-c8d0-441c-f9cc-5e1bc8558716",
    "scrolled": false
   },
   "outputs": [
    {
     "data": {
      "text/html": [
       "<div>\n",
       "<style scoped>\n",
       "    .dataframe tbody tr th:only-of-type {\n",
       "        vertical-align: middle;\n",
       "    }\n",
       "\n",
       "    .dataframe tbody tr th {\n",
       "        vertical-align: top;\n",
       "    }\n",
       "\n",
       "    .dataframe thead th {\n",
       "        text-align: right;\n",
       "    }\n",
       "</style>\n",
       "<table border=\"1\" class=\"dataframe\">\n",
       "  <thead>\n",
       "    <tr style=\"text-align: right;\">\n",
       "      <th></th>\n",
       "      <th>date</th>\n",
       "      <th>Name</th>\n",
       "      <th>open</th>\n",
       "      <th>close</th>\n",
       "      <th>volume</th>\n",
       "    </tr>\n",
       "  </thead>\n",
       "  <tbody>\n",
       "    <tr>\n",
       "      <th>0</th>\n",
       "      <td>2018-02-01</td>\n",
       "      <td>AAL</td>\n",
       "      <td>$54.00</td>\n",
       "      <td>$53.88</td>\n",
       "      <td>3623078</td>\n",
       "    </tr>\n",
       "    <tr>\n",
       "      <th>1</th>\n",
       "      <td>2018-02-01</td>\n",
       "      <td>AAPL</td>\n",
       "      <td>$167.16</td>\n",
       "      <td>$167.78</td>\n",
       "      <td>47230787</td>\n",
       "    </tr>\n",
       "    <tr>\n",
       "      <th>2</th>\n",
       "      <td>2018-02-01</td>\n",
       "      <td>AAP</td>\n",
       "      <td>$116.24</td>\n",
       "      <td>$117.29</td>\n",
       "      <td>760629</td>\n",
       "    </tr>\n",
       "    <tr>\n",
       "      <th>3</th>\n",
       "      <td>2018-02-01</td>\n",
       "      <td>ABBV</td>\n",
       "      <td>$112.24</td>\n",
       "      <td>$116.34</td>\n",
       "      <td>9943452</td>\n",
       "    </tr>\n",
       "    <tr>\n",
       "      <th>4</th>\n",
       "      <td>2018-02-01</td>\n",
       "      <td>ABC</td>\n",
       "      <td>$97.74</td>\n",
       "      <td>$99.29</td>\n",
       "      <td>2786798</td>\n",
       "    </tr>\n",
       "    <tr>\n",
       "      <th>...</th>\n",
       "      <td>...</td>\n",
       "      <td>...</td>\n",
       "      <td>...</td>\n",
       "      <td>...</td>\n",
       "      <td>...</td>\n",
       "    </tr>\n",
       "    <tr>\n",
       "      <th>500</th>\n",
       "      <td>2018-02-01</td>\n",
       "      <td>XYL</td>\n",
       "      <td>$72.50</td>\n",
       "      <td>$74.84</td>\n",
       "      <td>1817612</td>\n",
       "    </tr>\n",
       "    <tr>\n",
       "      <th>501</th>\n",
       "      <td>2018-02-01</td>\n",
       "      <td>YUM</td>\n",
       "      <td>$84.24</td>\n",
       "      <td>$83.98</td>\n",
       "      <td>1685275</td>\n",
       "    </tr>\n",
       "    <tr>\n",
       "      <th>502</th>\n",
       "      <td>2018-02-01</td>\n",
       "      <td>ZBH</td>\n",
       "      <td>$126.35</td>\n",
       "      <td>$128.19</td>\n",
       "      <td>1756300</td>\n",
       "    </tr>\n",
       "    <tr>\n",
       "      <th>503</th>\n",
       "      <td>2018-02-01</td>\n",
       "      <td>ZION</td>\n",
       "      <td>$53.79</td>\n",
       "      <td>$54.98</td>\n",
       "      <td>3542047</td>\n",
       "    </tr>\n",
       "    <tr>\n",
       "      <th>504</th>\n",
       "      <td>2018-02-01</td>\n",
       "      <td>ZTS</td>\n",
       "      <td>$76.84</td>\n",
       "      <td>$77.82</td>\n",
       "      <td>2982259</td>\n",
       "    </tr>\n",
       "  </tbody>\n",
       "</table>\n",
       "<p>505 rows × 5 columns</p>\n",
       "</div>"
      ],
      "text/plain": [
       "           date  Name     open    close    volume\n",
       "0    2018-02-01   AAL   $54.00   $53.88   3623078\n",
       "1    2018-02-01  AAPL  $167.16  $167.78  47230787\n",
       "2    2018-02-01   AAP  $116.24  $117.29    760629\n",
       "3    2018-02-01  ABBV  $112.24  $116.34   9943452\n",
       "4    2018-02-01   ABC   $97.74   $99.29   2786798\n",
       "..          ...   ...      ...      ...       ...\n",
       "500  2018-02-01   XYL   $72.50   $74.84   1817612\n",
       "501  2018-02-01   YUM   $84.24   $83.98   1685275\n",
       "502  2018-02-01   ZBH  $126.35  $128.19   1756300\n",
       "503  2018-02-01  ZION   $53.79   $54.98   3542047\n",
       "504  2018-02-01   ZTS   $76.84   $77.82   2982259\n",
       "\n",
       "[505 rows x 5 columns]"
      ]
     },
     "execution_count": 5,
     "metadata": {},
     "output_type": "execute_result"
    }
   ],
   "source": [
    "# ENTER YOUR CODE HERE.\n",
    "import pandas as pd\n",
    "df = pd.read_csv(\"sp500.csv\")\n",
    "df\n"
   ]
  },
  {
   "cell_type": "markdown",
   "metadata": {
    "colab_type": "text",
    "id": "7QlsiUNInOHz"
   },
   "source": [
    "The unit of observation in this data set are date, stock names, stock open and close prices, and number of shares.\n",
    "The natural variable to index is volume."
   ]
  },
  {
   "cell_type": "markdown",
   "metadata": {
    "colab_type": "text",
    "id": "GKW3GDWYnOHz"
   },
   "source": [
    "## Question 2\n",
    "\n",
    "We will start by looking at the `volume` column. This variable tells us how many shares were traded on that date.\n",
    "\n",
    "Extract the first digit of every value in this column. (_Hint:_ First, turn the numbers into strings. Then, use the [text processing functionalities](https://pandas.pydata.org/pandas-docs/stable/text.html) of `pandas` to extract the first character of each string.) Make an appropriate visualization to display the distribution of the first digits. (_Hint:_ Think carefully about whether the variable you are plotting is quantitative or categorical.)\n",
    "\n",
    "How does this compare with what you predicted in Question 0?"
   ]
  },
  {
   "cell_type": "markdown",
   "metadata": {
    "colab_type": "text",
    "id": "Gg3msmSZnOIE"
   },
   "source": [
    "My prediction was wrong for both the probability of the first digit being 1 and the first digit being 9.\n",
    "There are significantly more data starting with the digit 1.\n",
    "There significantly less data starting with the digit 9."
   ]
  },
  {
   "cell_type": "code",
   "execution_count": 2,
   "metadata": {
    "colab": {},
    "colab_type": "code",
    "id": "MyTVgillnOH0",
    "outputId": "e828b101-6fe7-47ad-f0ed-81b83a0ee9f4"
   },
   "outputs": [
    {
     "name": "stdout",
     "output_type": "stream",
     "text": [
      "1    165\n",
      "2     93\n",
      "3     59\n",
      "4     43\n",
      "5     41\n",
      "6     36\n",
      "7     25\n",
      "8     22\n",
      "9     21\n",
      "Name: volume, dtype: int64\n"
     ]
    },
    {
     "data": {
      "image/png": "[encoded data removed]",
      "text/plain": [
       "<Figure size 640x480 with 1 Axes>"
      ]
     },
     "metadata": {},
     "output_type": "display_data"
    }
   ],
   "source": [
    "# ENTER YOUR CODE HERE.\n",
    "\n",
    "import matplotlib.pyplot as plt \n",
    "%matplotlib inline\n",
    "\n",
    "import pandas as pd\n",
    "df = pd.read_csv(\"sp500.csv\")\n",
    "\n",
    "# temp = df.volume.astype(str);\n",
    "# temp.str[0]\n",
    "\n",
    "df.volume = df.volume.apply(str)\n",
    "digit_volume = df.volume.str[0].value_counts()\n",
    "print(digit_volume)\n",
    "\n",
    "plt.bar(digit_volume.index,digit_volume)\n",
    "plt.show()\n",
    "#plt.hist(df.volume.str[0].apply(int))\n"
   ]
  },
  {
   "cell_type": "markdown",
   "metadata": {
    "colab_type": "text",
    "id": "fw4kZAVmnOIF"
   },
   "source": [
    "## Question 3\n",
    "\n",
    "Now, repeat Question 2, but for the distribution of _last_ digits. Again, make an appropriate visualization and compare with your prediction in Question 0."
   ]
  },
  {
   "cell_type": "code",
   "execution_count": 3,
   "metadata": {
    "colab": {},
    "colab_type": "code",
    "id": "oovgcTUFnOIL"
   },
   "outputs": [
    {
     "name": "stdout",
     "output_type": "stream",
     "text": [
      "8    56\n",
      "2    56\n",
      "9    53\n",
      "1    53\n",
      "7    52\n",
      "0    52\n",
      "6    51\n",
      "3    48\n",
      "5    44\n",
      "4    40\n",
      "Name: volume, dtype: int64\n"
     ]
    },
    {
     "data": {
      "image/png": "[encoded data removed]",
      "text/plain": [
       "<Figure size 640x480 with 1 Axes>"
      ]
     },
     "metadata": {},
     "output_type": "display_data"
    }
   ],
   "source": [
    "# ENTER YOUR CODE HERE.\n",
    "import matplotlib.pyplot as plt \n",
    "%matplotlib inline\n",
    "\n",
    "import pandas as pd\n",
    "df = pd.read_csv(\"sp500.csv\")\n",
    "\n",
    "# temp = df.volume.astype(str);\n",
    "# temp.str[0]\n",
    "\n",
    "df.volume = df.volume.apply(str)\n",
    "digit_volume = df.volume.str.strip().str[-1].value_counts()\n",
    "print(digit_volume)\n",
    "\n",
    "plt.bar(digit_volume.index,digit_volume)\n",
    "plt.show()\n",
    "#plt.hist(df.volume.str.strip().str[-1].apply(int))\n",
    "\n",
    "#df['LastDigit'] = df['UserId'].str.strip().str[-1]"
   ]
  },
  {
   "cell_type": "markdown",
   "metadata": {},
   "source": [
    "My previous prediction is wrong.\n",
    "The probabilities of the last digit either being 1 or 9 are equivalent."
   ]
  },
  {
   "cell_type": "markdown",
   "metadata": {
    "colab_type": "text",
    "id": "Wk1hWz2_nOIY"
   },
   "source": [
    "\n",
    "\n",
    "## Question 4\n",
    "\n",
    "Maybe the `volume` column was just a fluke. Let's see if the first digit distribution holds up when we look at a very different variable: the closing price of the stock. Make a visualization of the first digit distribution of the closing price (the `close` column of the `DataFrame`). Comment on what you see.\n",
    "\n",
    "(_Hint:_ What type did `pandas` infer this variable as and why? You will have to first clean the values using the [text processing functionalities](https://pandas.pydata.org/pandas-docs/stable/text.html) of `pandas` and then convert this variable to a quantitative variable.)"
   ]
  },
  {
   "cell_type": "code",
   "execution_count": 4,
   "metadata": {
    "colab": {},
    "colab_type": "code",
    "id": "8Xvx4HyhnOIa"
   },
   "outputs": [
    {
     "name": "stdout",
     "output_type": "stream",
     "text": [
      "1    171\n",
      "2     55\n",
      "3     52\n",
      "6     48\n",
      "4     43\n",
      "7     43\n",
      "5     39\n",
      "8     28\n",
      "9     26\n",
      "Name: close, dtype: int64\n"
     ]
    },
    {
     "data": {
      "image/png": "[encoded data removed]",
      "text/plain": [
       "<Figure size 640x480 with 1 Axes>"
      ]
     },
     "metadata": {},
     "output_type": "display_data"
    }
   ],
   "source": [
    "import matplotlib.pyplot as plt \n",
    "%matplotlib inline\n",
    "\n",
    "import pandas as pd\n",
    "df = pd.read_csv(\"sp500.csv\")\n",
    "\n",
    "#temp = df.close.astype(str);\n",
    "#temp.str[1]\n",
    "\n",
    "df.close = df.close.apply(str)\n",
    "digit_close = df.close.str[1].value_counts()\n",
    "print(digit_close)\n",
    "\n",
    "plt.bar(digit_close.index,digit_close)\n",
    "plt.show()\n",
    "#plt.hist(df.volume.str[0].apply(int))\n",
    "\n",
    "\n"
   ]
  },
  {
   "cell_type": "markdown",
   "metadata": {
    "colab_type": "text",
    "id": "S5EGwnx1nOIj"
   },
   "source": [
    "**ENTER YOUR WRITTEN EXPLANATION HERE.**"
   ]
  },
  {
   "cell_type": "markdown",
   "metadata": {},
   "source": [
    "There was no difference between the probabilities of the first digit either being 1 or 9 between the volume of stocks and the close price of stocks. Oddly enough the results are almost the same with very minimal difference. \n"
   ]
  },
  {
   "cell_type": "markdown",
   "metadata": {
    "colab_type": "text",
    "id": "N6klhgAUnOIk"
   },
   "source": [
    "## Submission Instructions\n",
    "\n",
    "Once you are finished, follow these steps:\n",
    "\n",
    "1. Restart the kernel and re-run this notebook from beginning to end by going to `Kernel > Restart Kernel and Run All Cells`.\n",
    "\n",
    "2. If this process stops halfway through, that means there was an error. Correct the error and repeat Step 1 until the notebook runs from beginning to end.\n",
    "\n",
    "3. Double check that there is a number next to each code cell and that these numbers are in order.\n",
    "\n",
    "Then, submit your lab as follows:\n",
    "\n",
    "1. This quarter, you don't need to demo Lab 1. The first lab to demo will be Lab 2.\n",
    "\n",
    "2. Upload your .ipyn Notebook to Canvas and pdf to Gradescope."
   ]
  }
 ],
 "metadata": {
  "colab": {
   "collapsed_sections": [],
   "name": "1A. Distribution of First Digits.ipynb",
   "provenance": []
  },
  "kernelspec": {
   "display_name": "Python 3 (ipykernel)",
   "language": "python",
   "name": "python3"
  },
  "language_info": {
   "codemirror_mode": {
    "name": "ipython",
    "version": 3
   },
   "file_extension": ".py",
   "mimetype": "text/x-python",
   "name": "python",
   "nbconvert_exporter": "python",
   "pygments_lexer": "ipython3",
   "version": "3.9.13"
  }
 },
 "nbformat": 4,
 "nbformat_minor": 4
}
